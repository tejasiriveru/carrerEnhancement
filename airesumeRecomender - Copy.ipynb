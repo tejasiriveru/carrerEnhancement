{
 "cells": [
  {
   "cell_type": "code",
   "execution_count": 1,
   "id": "d49455d5",
   "metadata": {},
   "outputs": [
    {
     "name": "stderr",
     "output_type": "stream",
     "text": [
      "C:\\Users\\saina\\AppData\\Local\\Temp\\ipykernel_22788\\2406548644.py:1: DeprecationWarning: \n",
      "Pyarrow will become a required dependency of pandas in the next major release of pandas (pandas 3.0),\n",
      "(to allow more performant data types, such as the Arrow string type, and better interoperability with other libraries)\n",
      "but was not found to be installed on your system.\n",
      "If this would cause problems for you,\n",
      "please provide us feedback at https://github.com/pandas-dev/pandas/issues/54466\n",
      "        \n",
      "  import pandas as pd\n"
     ]
    }
   ],
   "source": [
    "import pandas as pd\n",
    "import nltk\n",
    "from sklearn.feature_extraction.text import TfidfVectorizer, CountVectorizer\n",
    "from nltk.corpus import stopwords\n",
    "import re\n",
    "import warnings\n",
    "warnings.filterwarnings(\"ignore\")\n",
    " "
   ]
  },
  {
   "cell_type": "code",
   "execution_count": 3,
   "id": "c30f40fe",
   "metadata": {},
   "outputs": [],
   "source": [
    "df_jd=pd.read_csv('training_data.csv')\n",
    "# df_resume=pd.read_csv('Resume.csv')"
   ]
  },
  {
   "cell_type": "code",
   "execution_count": 3,
   "id": "0a4f0772",
   "metadata": {},
   "outputs": [],
   "source": [
    "temp_jd=df_jd.copy()\n",
    "temp_resume=df_resume.copy()\n"
   ]
  },
  {
   "cell_type": "code",
   "execution_count": 4,
   "id": "29e66781",
   "metadata": {},
   "outputs": [
    {
     "data": {
      "text/plain": [
       "Index(['company_name', 'job_description', 'position_title',\n",
       "       'description_length', 'model_response'],\n",
       "      dtype='object')"
      ]
     },
     "execution_count": 4,
     "metadata": {},
     "output_type": "execute_result"
    }
   ],
   "source": [
    "df_jd.columns"
   ]
  },
  {
   "cell_type": "code",
   "execution_count": 22,
   "id": "199c784b",
   "metadata": {},
   "outputs": [],
   "source": [
    "df_jd.drop(['description_length','model_response'],axis=1,inplace=True)"
   ]
  },
  {
   "cell_type": "code",
   "execution_count": 6,
   "id": "8d9f0ac3",
   "metadata": {},
   "outputs": [
    {
     "data": {
      "text/plain": [
       "Index(['ID', 'Resume_str', 'Resume_html', 'Category'], dtype='object')"
      ]
     },
     "execution_count": 6,
     "metadata": {},
     "output_type": "execute_result"
    }
   ],
   "source": [
    "df_resume.columns"
   ]
  },
  {
   "cell_type": "code",
   "execution_count": 7,
   "id": "02e61bab",
   "metadata": {},
   "outputs": [],
   "source": [
    "df_resume.drop(['Resume_html'],axis=1,inplace=True)\n"
   ]
  },
  {
   "cell_type": "code",
   "execution_count": 8,
   "id": "17f880e3",
   "metadata": {},
   "outputs": [
    {
     "data": {
      "text/plain": [
       "725"
      ]
     },
     "execution_count": 8,
     "metadata": {},
     "output_type": "execute_result"
    }
   ],
   "source": [
    "len(pd.unique(df_jd.position_title))"
   ]
  },
  {
   "cell_type": "code",
   "execution_count": 9,
   "id": "8bfa644d",
   "metadata": {},
   "outputs": [
    {
     "data": {
      "text/plain": [
       "Category\n",
       "INFORMATION-TECHNOLOGY    120\n",
       "BUSINESS-DEVELOPMENT      120\n",
       "FINANCE                   118\n",
       "ADVOCATE                  118\n",
       "ACCOUNTANT                118\n",
       "ENGINEERING               118\n",
       "CHEF                      118\n",
       "AVIATION                  117\n",
       "FITNESS                   117\n",
       "SALES                     116\n",
       "BANKING                   115\n",
       "HEALTHCARE                115\n",
       "CONSULTANT                115\n",
       "CONSTRUCTION              112\n",
       "PUBLIC-RELATIONS          111\n",
       "HR                        110\n",
       "DESIGNER                  107\n",
       "ARTS                      103\n",
       "TEACHER                   102\n",
       "APPAREL                    97\n",
       "DIGITAL-MEDIA              96\n",
       "AGRICULTURE                63\n",
       "AUTOMOBILE                 36\n",
       "BPO                        22\n",
       "Name: count, dtype: int64"
      ]
     },
     "execution_count": 9,
     "metadata": {},
     "output_type": "execute_result"
    }
   ],
   "source": [
    "df_resume.Category.value_counts()"
   ]
  },
  {
   "cell_type": "code",
   "execution_count": 10,
   "id": "c0fbe83c",
   "metadata": {},
   "outputs": [],
   "source": [
    "# df_jd.to_csv('jb_clean.csv',index=False)"
   ]
  },
  {
   "cell_type": "code",
   "execution_count": 11,
   "id": "04b8e7f0",
   "metadata": {},
   "outputs": [],
   "source": [
    "# df_resume.to_csv('resume_clean.csv',index=False)\n"
   ]
  },
  {
   "cell_type": "code",
   "execution_count": 12,
   "id": "bb5519da",
   "metadata": {},
   "outputs": [],
   "source": [
    "# len(pd.unique(df_resume.Category))"
   ]
  },
  {
   "cell_type": "code",
   "execution_count": 13,
   "id": "e11bd9e1",
   "metadata": {},
   "outputs": [],
   "source": [
    "# df_resume.Category"
   ]
  },
  {
   "cell_type": "code",
   "execution_count": 14,
   "id": "1cf9ff20",
   "metadata": {},
   "outputs": [
    {
     "data": {
      "text/plain": [
       "((2484, 3), (853, 3))"
      ]
     },
     "execution_count": 14,
     "metadata": {},
     "output_type": "execute_result"
    }
   ],
   "source": [
    "df_resume.shape,df_jd.shape"
   ]
  },
  {
   "cell_type": "code",
   "execution_count": 4,
   "id": "0a89fc54",
   "metadata": {},
   "outputs": [
    {
     "name": "stderr",
     "output_type": "stream",
     "text": [
      "[nltk_data] Downloading package stopwords to\n",
      "[nltk_data]     C:\\Users\\saina\\AppData\\Roaming\\nltk_data...\n",
      "[nltk_data]   Package stopwords is already up-to-date!\n",
      "[nltk_data] Downloading package wordnet to\n",
      "[nltk_data]     C:\\Users\\saina\\AppData\\Roaming\\nltk_data...\n",
      "[nltk_data]   Package wordnet is already up-to-date!\n"
     ]
    },
    {
     "data": {
      "text/plain": [
       "True"
      ]
     },
     "execution_count": 4,
     "metadata": {},
     "output_type": "execute_result"
    }
   ],
   "source": [
    "import nltk\n",
    "from nltk.corpus import stopwords\n",
    "from nltk.stem import WordNetLemmatizer\n",
    "wnl=WordNetLemmatizer() # Root Word Ko Base Work ma conver kar tha ha (base word will be meaningfull) Root = tq baseword = Thanks\n",
    "# Download necessary resources\n",
    "nltk.download('stopwords') # Stop the words near coms and and point\n",
    "nltk.download('wordnet') # Shows In graph"
   ]
  },
  {
   "cell_type": "code",
   "execution_count": 5,
   "id": "25f2ea0d",
   "metadata": {},
   "outputs": [
    {
     "name": "stderr",
     "output_type": "stream",
     "text": [
      "[nltk_data] Downloading package omw-1.4 to\n",
      "[nltk_data]     C:\\Users\\saina\\AppData\\Roaming\\nltk_data...\n",
      "[nltk_data]   Package omw-1.4 is already up-to-date!\n"
     ]
    },
    {
     "data": {
      "text/plain": [
       "True"
      ]
     },
     "execution_count": 5,
     "metadata": {},
     "output_type": "execute_result"
    }
   ],
   "source": [
    "wnl = WordNetLemmatizer()\n",
    "import nltk\n",
    "nltk.download('omw-1.4')"
   ]
  },
  {
   "cell_type": "code",
   "execution_count": 6,
   "id": "a4472e0a",
   "metadata": {},
   "outputs": [],
   "source": [
    "def splitForDataFrame(text,wnl):\n",
    "    text=re.split(r'[\\n/.\\!]',text)\n",
    "    text=' '.join(text)\n",
    "    text=re.split(r'[\\n]',text)\n",
    "    text=' '.join(text)\n",
    "    text=re.sub('[^a-zA-Z]',\" \",text)\n",
    "    text=text.lower()\n",
    "    text=text.split()\n",
    "    text=[word for word in text if not word in set(stopwords.words('english'))]\n",
    "    text=\" \".join(text)\n",
    "    return text\n",
    "# def productionEnviromentCleaning()\n"
   ]
  },
  {
   "cell_type": "code",
   "execution_count": 7,
   "id": "c5e07cc5",
   "metadata": {},
   "outputs": [],
   "source": [
    "from nltk import pos_tag, sent_tokenize, word_tokenize\n",
    "from nltk.corpus import stopwords\n",
    "import string\n",
    "import re\n",
    "wnl = WordNetLemmatizer()\n",
    "\n",
    "def preprocess_text(text,wnl):\n",
    "    text = text.lower()\n",
    "    text = re.sub('[^a-zA-Z]', ' ', text)\n",
    "    sentences = sent_tokenize(text)\n",
    "    features = {'feature': \"\"}\n",
    "    stop_words = set(stopwords.words(\"english\"))\n",
    "    for sent in sentences:\n",
    "        if any(criteria in sent for criteria in ['skills', 'education']):\n",
    "            words = word_tokenize(sent)\n",
    "            words = [word for word in words if word not in stop_words]\n",
    "            tagged_words = pos_tag(words)\n",
    "            filtered_words = [word for word, tag in tagged_words if tag not in ['DT', 'IN', 'TO', 'PRP', 'WP']]\n",
    "            features['feature'] += \" \".join(filtered_words)\n",
    "    return features"
   ]
  },
  {
   "cell_type": "code",
   "execution_count": 8,
   "id": "1aefbd93",
   "metadata": {
    "scrolled": false
   },
   "outputs": [],
   "source": [
    "for i in range(len(df_jd)):\n",
    "    df_jd['job_description'].iloc[i]=splitForDataFrame(df_jd['job_description'].iloc[i],wnl)"
   ]
  },
  {
   "cell_type": "code",
   "execution_count": 24,
   "id": "19419adf",
   "metadata": {},
   "outputs": [],
   "source": [
    "df_jd.to_csv('jd.csv',index=False)"
   ]
  },
  {
   "cell_type": "code",
   "execution_count": 24,
   "id": "e192dd18",
   "metadata": {},
   "outputs": [],
   "source": [
    "# import nltk\n",
    "# nltk.download('punkt')"
   ]
  },
  {
   "cell_type": "code",
   "execution_count": 10,
   "id": "3190d7f6",
   "metadata": {},
   "outputs": [],
   "source": [
    "\n",
    "from sklearn.feature_extraction.text import TfidfVectorizer\n",
    "\n",
    "# Assuming df_jd['job_description'] is a Pandas Series\n",
    "df_jd['job_description'] = df_jd['job_description'].astype(str)\n",
    "\n",
    "vectorizer1 = TfidfVectorizer(ngram_range=(1, 2))\n",
    "job_Description = vectorizer1.fit_transform(df_jd['job_description'])\n"
   ]
  },
  {
   "cell_type": "code",
   "execution_count": 19,
   "id": "fad9b9c1",
   "metadata": {},
   "outputs": [
    {
     "data": {
      "text/plain": [
       "<853x167686 sparse matrix of type '<class 'numpy.float64'>'\n",
       "\twith 381612 stored elements in Compressed Sparse Row format>"
      ]
     },
     "execution_count": 19,
     "metadata": {},
     "output_type": "execute_result"
    }
   ],
   "source": [
    "job_Description"
   ]
  },
  {
   "cell_type": "code",
   "execution_count": 20,
   "id": "93b86f28",
   "metadata": {},
   "outputs": [
    {
     "data": {
      "text/html": [
       "<div>\n",
       "<style scoped>\n",
       "    .dataframe tbody tr th:only-of-type {\n",
       "        vertical-align: middle;\n",
       "    }\n",
       "\n",
       "    .dataframe tbody tr th {\n",
       "        vertical-align: top;\n",
       "    }\n",
       "\n",
       "    .dataframe thead th {\n",
       "        text-align: right;\n",
       "    }\n",
       "</style>\n",
       "<table border=\"1\" class=\"dataframe\">\n",
       "  <thead>\n",
       "    <tr style=\"text-align: right;\">\n",
       "      <th></th>\n",
       "      <th>ID</th>\n",
       "      <th>Resume_str</th>\n",
       "      <th>Category</th>\n",
       "    </tr>\n",
       "  </thead>\n",
       "  <tbody>\n",
       "    <tr>\n",
       "      <th>0</th>\n",
       "      <td>16852973</td>\n",
       "      <td>HR ADMINISTRATOR/MARKETING ASSOCIATE\\...</td>\n",
       "      <td>HR</td>\n",
       "    </tr>\n",
       "    <tr>\n",
       "      <th>1</th>\n",
       "      <td>22323967</td>\n",
       "      <td>HR SPECIALIST, US HR OPERATIONS      ...</td>\n",
       "      <td>HR</td>\n",
       "    </tr>\n",
       "    <tr>\n",
       "      <th>2</th>\n",
       "      <td>33176873</td>\n",
       "      <td>HR DIRECTOR       Summary      Over 2...</td>\n",
       "      <td>HR</td>\n",
       "    </tr>\n",
       "    <tr>\n",
       "      <th>3</th>\n",
       "      <td>27018550</td>\n",
       "      <td>HR SPECIALIST       Summary    Dedica...</td>\n",
       "      <td>HR</td>\n",
       "    </tr>\n",
       "    <tr>\n",
       "      <th>4</th>\n",
       "      <td>17812897</td>\n",
       "      <td>HR MANAGER         Skill Highlights  ...</td>\n",
       "      <td>HR</td>\n",
       "    </tr>\n",
       "    <tr>\n",
       "      <th>...</th>\n",
       "      <td>...</td>\n",
       "      <td>...</td>\n",
       "      <td>...</td>\n",
       "    </tr>\n",
       "    <tr>\n",
       "      <th>2479</th>\n",
       "      <td>99416532</td>\n",
       "      <td>RANK: SGT/E-5 NON- COMMISSIONED OFFIC...</td>\n",
       "      <td>AVIATION</td>\n",
       "    </tr>\n",
       "    <tr>\n",
       "      <th>2480</th>\n",
       "      <td>24589765</td>\n",
       "      <td>GOVERNMENT RELATIONS, COMMUNICATIONS ...</td>\n",
       "      <td>AVIATION</td>\n",
       "    </tr>\n",
       "    <tr>\n",
       "      <th>2481</th>\n",
       "      <td>31605080</td>\n",
       "      <td>GEEK SQUAD AGENT         Professional...</td>\n",
       "      <td>AVIATION</td>\n",
       "    </tr>\n",
       "    <tr>\n",
       "      <th>2482</th>\n",
       "      <td>21190805</td>\n",
       "      <td>PROGRAM DIRECTOR / OFFICE MANAGER    ...</td>\n",
       "      <td>AVIATION</td>\n",
       "    </tr>\n",
       "    <tr>\n",
       "      <th>2483</th>\n",
       "      <td>37473139</td>\n",
       "      <td>STOREKEEPER II       Professional Sum...</td>\n",
       "      <td>AVIATION</td>\n",
       "    </tr>\n",
       "  </tbody>\n",
       "</table>\n",
       "<p>2484 rows × 3 columns</p>\n",
       "</div>"
      ],
      "text/plain": [
       "            ID                                         Resume_str  Category\n",
       "0     16852973           HR ADMINISTRATOR/MARKETING ASSOCIATE\\...        HR\n",
       "1     22323967           HR SPECIALIST, US HR OPERATIONS      ...        HR\n",
       "2     33176873           HR DIRECTOR       Summary      Over 2...        HR\n",
       "3     27018550           HR SPECIALIST       Summary    Dedica...        HR\n",
       "4     17812897           HR MANAGER         Skill Highlights  ...        HR\n",
       "...        ...                                                ...       ...\n",
       "2479  99416532           RANK: SGT/E-5 NON- COMMISSIONED OFFIC...  AVIATION\n",
       "2480  24589765           GOVERNMENT RELATIONS, COMMUNICATIONS ...  AVIATION\n",
       "2481  31605080           GEEK SQUAD AGENT         Professional...  AVIATION\n",
       "2482  21190805           PROGRAM DIRECTOR / OFFICE MANAGER    ...  AVIATION\n",
       "2483  37473139           STOREKEEPER II       Professional Sum...  AVIATION\n",
       "\n",
       "[2484 rows x 3 columns]"
      ]
     },
     "execution_count": 20,
     "metadata": {},
     "output_type": "execute_result"
    }
   ],
   "source": [
    "df_resume"
   ]
  },
  {
   "cell_type": "code",
   "execution_count": 63,
   "id": "c82e1752",
   "metadata": {},
   "outputs": [],
   "source": [
    "\n",
    "# temp= preprocess_text(df_resume['Resume_str'].iloc[0],wnl)"
   ]
  },
  {
   "cell_type": "code",
   "execution_count": 2,
   "id": "bb4900ca",
   "metadata": {
    "scrolled": true
   },
   "outputs": [
    {
     "ename": "NameError",
     "evalue": "name 'df_resume' is not defined",
     "output_type": "error",
     "traceback": [
      "\u001b[1;31m---------------------------------------------------------------------------\u001b[0m",
      "\u001b[1;31mNameError\u001b[0m                                 Traceback (most recent call last)",
      "Cell \u001b[1;32mIn[2], line 24\u001b[0m\n\u001b[0;32m     21\u001b[0m             features\u001b[38;5;241m.\u001b[39mappend(\u001b[38;5;124m\"\u001b[39m\u001b[38;5;124m \u001b[39m\u001b[38;5;124m\"\u001b[39m\u001b[38;5;241m.\u001b[39mjoin(filtered_words))\n\u001b[0;32m     22\u001b[0m     \u001b[38;5;28;01mreturn\u001b[39;00m features\n\u001b[1;32m---> 24\u001b[0m temp \u001b[38;5;241m=\u001b[39m preprocess_text(\u001b[43mdf_resume\u001b[49m[\u001b[38;5;124m'\u001b[39m\u001b[38;5;124mResume_str\u001b[39m\u001b[38;5;124m'\u001b[39m]\u001b[38;5;241m.\u001b[39miloc[\u001b[38;5;241m0\u001b[39m], wnl)\n\u001b[0;32m     26\u001b[0m text1 \u001b[38;5;241m=\u001b[39m vectorizer1\u001b[38;5;241m.\u001b[39mtransform(temp)\n",
      "\u001b[1;31mNameError\u001b[0m: name 'df_resume' is not defined"
     ]
    }
   ],
   "source": [
    "from nltk import pos_tag, sent_tokenize, word_tokenize\n",
    "from nltk.corpus import stopwords\n",
    "import string\n",
    "import re\n",
    "from nltk.stem import WordNetLemmatizer\n",
    "\n",
    "wnl = WordNetLemmatizer()\n",
    "\n",
    "def preprocess_text(text, wnl):\n",
    "    text = text.lower()\n",
    "    text = re.sub('[^a-zA-Z]', ' ', text)\n",
    "    sentences = sent_tokenize(text)\n",
    "    features = []\n",
    "    stop_words = set(stopwords.words(\"english\"))\n",
    "    for sent in sentences:\n",
    "        if any(criteria in sent for criteria in ['skills', 'education']):\n",
    "            words = word_tokenize(sent)\n",
    "            words = [word for word in words if word not in stop_words]\n",
    "            tagged_words = pos_tag(words)\n",
    "            filtered_words = [word for word, tag in tagged_words if tag not in ['DT', 'IN', 'TO', 'PRP', 'WP']]\n",
    "            features.append(\" \".join(filtered_words))\n",
    "    return features\n",
    "\n",
    "temp = preprocess_text(df_resume['Resume_str'].iloc[0], wnl)\n",
    "\n",
    "text1 = vectorizer1.transform(temp)\n"
   ]
  },
  {
   "cell_type": "code",
   "execution_count": 25,
   "id": "2848d686",
   "metadata": {},
   "outputs": [],
   "source": [
    "from sklearn.metrics.pairwise import cosine_similarity\n",
    "RAM = cosine_similarity(text1, job_Description ).flatten()\n"
   ]
  },
  {
   "cell_type": "code",
   "execution_count": 26,
   "id": "160fe8f0",
   "metadata": {
    "scrolled": true
   },
   "outputs": [
    {
     "data": {
      "text/plain": [
       "852"
      ]
     },
     "execution_count": 26,
     "metadata": {},
     "output_type": "execute_result"
    }
   ],
   "source": [
    "list(RAM).index(max(RAM))"
   ]
  },
  {
   "cell_type": "code",
   "execution_count": 27,
   "id": "50d6c9e6",
   "metadata": {},
   "outputs": [
    {
     "data": {
      "text/plain": [
       "company_name                                                 Aerotek\n",
       "job_description    job handles customer inquiries telephone andor...\n",
       "position_title        Remote Inbound Customer Service Representative\n",
       "Name: 852, dtype: object"
      ]
     },
     "execution_count": 27,
     "metadata": {},
     "output_type": "execute_result"
    }
   ],
   "source": [
    "df_jd.iloc[852]"
   ]
  },
  {
   "cell_type": "code",
   "execution_count": 28,
   "id": "ab2974e5",
   "metadata": {
    "scrolled": true
   },
   "outputs": [
    {
     "data": {
      "text/plain": [
       "ID                                                     16852973\n",
       "Resume_str             HR ADMINISTRATOR/MARKETING ASSOCIATE\\...\n",
       "Name: 0, dtype: object"
      ]
     },
     "execution_count": 28,
     "metadata": {},
     "output_type": "execute_result"
    }
   ],
   "source": [
    "df_resume.iloc[0]"
   ]
  },
  {
   "cell_type": "code",
   "execution_count": 29,
   "id": "82863850",
   "metadata": {},
   "outputs": [
    {
     "data": {
      "text/plain": [
       "array([0.02192018, 0.0201104 , 0.01633722, 0.03493392, 0.02541825,\n",
       "       0.00897796, 0.02993068, 0.        , 0.02723836, 0.02378208,\n",
       "       0.02302761, 0.03693338, 0.02564613, 0.01241286, 0.02951885,\n",
       "       0.01846765, 0.03902568, 0.03388174, 0.        , 0.        ,\n",
       "       0.03434233, 0.03090578, 0.03344322, 0.04630254, 0.01165292,\n",
       "       0.0315921 , 0.        , 0.07910271, 0.05432872, 0.01785995,\n",
       "       0.        , 0.0409319 , 0.03072548, 0.0348641 , 0.02518853,\n",
       "       0.02295298, 0.        , 0.04161332, 0.        , 0.05657063,\n",
       "       0.03704828, 0.05290818, 0.02538989, 0.        , 0.03719813,\n",
       "       0.        , 0.06259052, 0.07293086, 0.        , 0.03451706,\n",
       "       0.02978162, 0.0421268 , 0.03671444, 0.        , 0.05843707,\n",
       "       0.01917952, 0.06475491, 0.05992516, 0.041622  , 0.03454841,\n",
       "       0.03997767, 0.06004217, 0.01211193, 0.02603182, 0.        ,\n",
       "       0.02781874, 0.        , 0.0224346 , 0.        , 0.03890578,\n",
       "       0.02206104, 0.02767353, 0.04589306, 0.03668241, 0.02222504,\n",
       "       0.03252076, 0.01749073, 0.02133515, 0.0317797 , 0.03670362,\n",
       "       0.        , 0.        , 0.05088124, 0.        , 0.0138385 ,\n",
       "       0.        , 0.0180128 , 0.0156958 , 0.01267239, 0.02345434,\n",
       "       0.02551414, 0.01251303, 0.02888726, 0.        , 0.01968469,\n",
       "       0.        , 0.03044939, 0.02573014, 0.02286803, 0.01916733,\n",
       "       0.        , 0.        , 0.04757868, 0.02635172, 0.02251993,\n",
       "       0.02338207, 0.09870267, 0.        , 0.04681192, 0.05647811,\n",
       "       0.04281923, 0.08939236, 0.10588498, 0.11014571, 0.03563596,\n",
       "       0.06703456, 0.02590589, 0.        , 0.03274074, 0.04157579,\n",
       "       0.03435763, 0.04848372, 0.02991152, 0.04815318, 0.08257702,\n",
       "       0.05425457, 0.04358553, 0.02250902, 0.0546324 , 0.04456548,\n",
       "       0.0546324 , 0.03336114, 0.03600238, 0.03866767, 0.03478677,\n",
       "       0.00816952, 0.02320107, 0.01666063, 0.02449881, 0.01283656,\n",
       "       0.        , 0.02742036, 0.01214417, 0.        , 0.        ,\n",
       "       0.02441103, 0.01783145, 0.00978754, 0.05246662, 0.05247939,\n",
       "       0.02585401, 0.03971795, 0.03779106, 0.03664789, 0.08755773,\n",
       "       0.04145561, 0.01686636, 0.04898248, 0.        , 0.03984148,\n",
       "       0.02732708, 0.        , 0.        , 0.02642274, 0.03704173,\n",
       "       0.03976248, 0.02607666, 0.01236324, 0.02819737, 0.04659791,\n",
       "       0.        , 0.0475433 , 0.        , 0.03045392, 0.        ,\n",
       "       0.        , 0.        , 0.05201691, 0.02627084, 0.        ,\n",
       "       0.10316059, 0.03884198, 0.02206517, 0.0578927 , 0.        ,\n",
       "       0.        , 0.04825161, 0.02300082, 0.03917756, 0.0386762 ,\n",
       "       0.0232307 , 0.03824358, 0.0556431 , 0.0408967 , 0.02560652,\n",
       "       0.05764432, 0.02020522, 0.        , 0.03263522, 0.04611798,\n",
       "       0.        , 0.01576029, 0.03763265, 0.        , 0.05544951,\n",
       "       0.04548629, 0.02193431, 0.        , 0.        , 0.        ,\n",
       "       0.00970129, 0.02989263, 0.        , 0.        , 0.        ,\n",
       "       0.        , 0.02701239, 0.0318862 , 0.06555525, 0.03880045,\n",
       "       0.04718434, 0.        , 0.10103726, 0.06846602, 0.02779104,\n",
       "       0.03542491, 0.0298983 , 0.02363611, 0.08859442, 0.07396016,\n",
       "       0.07496568, 0.08113585, 0.07101368, 0.02346531, 0.0142952 ,\n",
       "       0.01950978, 0.0242462 , 0.03904895, 0.        , 0.03506858,\n",
       "       0.03610585, 0.        , 0.04977109, 0.02365613, 0.04999236,\n",
       "       0.03524548, 0.02781036, 0.04625488, 0.02607054, 0.03870283,\n",
       "       0.02059253, 0.        , 0.02412927, 0.        , 0.04926554,\n",
       "       0.06687003, 0.        , 0.06644572, 0.        , 0.02704292,\n",
       "       0.05659387, 0.04741914, 0.0535839 , 0.04780654, 0.03492863,\n",
       "       0.03589694, 0.01476433, 0.03806628, 0.        , 0.03252131,\n",
       "       0.        , 0.        , 0.01384465, 0.        , 0.01615377,\n",
       "       0.06618676, 0.07625837, 0.        , 0.09127126, 0.04598068,\n",
       "       0.07164946, 0.        , 0.05097393, 0.        , 0.03178589,\n",
       "       0.02353199, 0.05254831, 0.        , 0.        , 0.0191225 ,\n",
       "       0.        , 0.        , 0.02301524, 0.        , 0.03605918,\n",
       "       0.03510311, 0.        , 0.        , 0.        , 0.00828217,\n",
       "       0.00465777, 0.05481078, 0.05149956, 0.02643545, 0.        ,\n",
       "       0.01398835, 0.        , 0.02587949, 0.04729314, 0.07167439,\n",
       "       0.04036367, 0.060447  , 0.05754811, 0.02827634, 0.05247525,\n",
       "       0.03073672, 0.05241882, 0.04975533, 0.03099119, 0.01724872,\n",
       "       0.        , 0.01525564, 0.03107147, 0.03854188, 0.03406853,\n",
       "       0.01796194, 0.05510952, 0.06211779, 0.08338313, 0.0366504 ,\n",
       "       0.02928359, 0.04937512, 0.03149519, 0.01695701, 0.05173508,\n",
       "       0.02391326, 0.01525539, 0.01746393, 0.02734556, 0.01392726,\n",
       "       0.04097374, 0.02725701, 0.02574991, 0.04656717, 0.03215588,\n",
       "       0.04507835, 0.03013474, 0.        , 0.02578312, 0.02887269,\n",
       "       0.        , 0.        , 0.06555302, 0.        , 0.0546398 ,\n",
       "       0.01894344, 0.05477996, 0.08008058, 0.04078919, 0.03046869,\n",
       "       0.00790684, 0.0332992 , 0.        , 0.        , 0.02288308,\n",
       "       0.        , 0.04205344, 0.07732228, 0.02071137, 0.03249651,\n",
       "       0.02852735, 0.0146889 , 0.        , 0.03842061, 0.01805333,\n",
       "       0.03619063, 0.02908325, 0.00883238, 0.01769142, 0.        ,\n",
       "       0.04006307, 0.02350249, 0.0401361 , 0.        , 0.        ,\n",
       "       0.03593881, 0.05016805, 0.03386622, 0.        , 0.04460723,\n",
       "       0.03577525, 0.        , 0.05266115, 0.        , 0.        ,\n",
       "       0.        , 0.        , 0.08695343, 0.04549619, 0.0857178 ,\n",
       "       0.04121365, 0.06432743, 0.1025192 , 0.04660407, 0.        ,\n",
       "       0.02503024, 0.03501106, 0.03480512, 0.02439518, 0.        ,\n",
       "       0.04461314, 0.03944824, 0.02855757, 0.04810731, 0.01921495,\n",
       "       0.0370059 , 0.00850278, 0.        , 0.03648959, 0.02835728,\n",
       "       0.05873792, 0.03139008, 0.04096182, 0.        , 0.01813066,\n",
       "       0.02357781, 0.03314783, 0.03850117, 0.06585725, 0.04104053,\n",
       "       0.        , 0.02695178, 0.02753757, 0.05485497, 0.03640377,\n",
       "       0.0369796 , 0.03694732, 0.03568465, 0.03218413, 0.01760521,\n",
       "       0.03472335, 0.0486409 , 0.03241004, 0.04639774, 0.07233134,\n",
       "       0.09733592, 0.        , 0.00683171, 0.04561991, 0.05960272,\n",
       "       0.02558623, 0.03607649, 0.        , 0.05169603, 0.04563961,\n",
       "       0.02205014, 0.06197078, 0.02721889, 0.        , 0.05116041,\n",
       "       0.04843469, 0.        , 0.        , 0.        , 0.        ,\n",
       "       0.04125771, 0.03763274, 0.        , 0.        , 0.02101243,\n",
       "       0.0463344 , 0.04737614, 0.03296737, 0.04573273, 0.03934649,\n",
       "       0.04344164, 0.        , 0.        , 0.02124805, 0.051126  ,\n",
       "       0.04745141, 0.06819167, 0.04689468, 0.07006509, 0.04548105,\n",
       "       0.        , 0.03918904, 0.02737061, 0.        , 0.04895142,\n",
       "       0.        , 0.03031763, 0.00745068, 0.01025077, 0.03004108,\n",
       "       0.01663665, 0.01815608, 0.        , 0.04993514, 0.        ,\n",
       "       0.03236486, 0.03683375, 0.05679095, 0.07664898, 0.07499981,\n",
       "       0.        , 0.07871955, 0.01417574, 0.03914223, 0.02859006,\n",
       "       0.04451671, 0.02890112, 0.        , 0.03310385, 0.03591483,\n",
       "       0.01876644, 0.03625454, 0.01828195, 0.02357275, 0.0451505 ,\n",
       "       0.        , 0.02224861, 0.        , 0.01943011, 0.        ,\n",
       "       0.        , 0.        , 0.        , 0.02025431, 0.08561381,\n",
       "       0.02614703, 0.01696712, 0.        , 0.02909334, 0.03399433,\n",
       "       0.07421765, 0.03331895, 0.        , 0.03676469, 0.0295341 ,\n",
       "       0.06746532, 0.04676985, 0.04677899, 0.        , 0.03063157,\n",
       "       0.06575206, 0.03473937, 0.02549542, 0.        , 0.03161782,\n",
       "       0.03972508, 0.        , 0.02521032, 0.0312524 , 0.03545178,\n",
       "       0.03938986, 0.        , 0.02494299, 0.02969231, 0.03685852,\n",
       "       0.03022955, 0.04834785, 0.047865  , 0.04149421, 0.02841437,\n",
       "       0.0355559 , 0.03197862, 0.01933755, 0.02273144, 0.03907893,\n",
       "       0.03050055, 0.02911682, 0.02068874, 0.0342472 , 0.02126756,\n",
       "       0.        , 0.03521622, 0.01679665, 0.        , 0.02833952,\n",
       "       0.        , 0.03793136, 0.        , 0.04308746, 0.02806554,\n",
       "       0.03859798, 0.05586021, 0.07658648, 0.03016307, 0.0443762 ,\n",
       "       0.04693358, 0.0559374 , 0.        , 0.06356356, 0.        ,\n",
       "       0.        , 0.03060089, 0.03458634, 0.05090809, 0.02383944,\n",
       "       0.02224848, 0.04523921, 0.        , 0.0199868 , 0.        ,\n",
       "       0.02648598, 0.02652014, 0.        , 0.07450647, 0.02824702,\n",
       "       0.0482731 , 0.02346032, 0.02071388, 0.02787676, 0.0317506 ,\n",
       "       0.02648242, 0.04878954, 0.02243151, 0.0422594 , 0.        ,\n",
       "       0.04040675, 0.        , 0.03326937, 0.03615757, 0.02897737,\n",
       "       0.02242504, 0.05192297, 0.02074109, 0.03989063, 0.01757173,\n",
       "       0.        , 0.        , 0.02678329, 0.03209265, 0.01271466,\n",
       "       0.0226075 , 0.        , 0.03440304, 0.01812862, 0.02173593,\n",
       "       0.03017296, 0.03507365, 0.03690824, 0.        , 0.03424289,\n",
       "       0.02036454, 0.        , 0.05269332, 0.02962732, 0.        ,\n",
       "       0.05050991, 0.01826187, 0.0467248 , 0.        , 0.04275025,\n",
       "       0.        , 0.03186651, 0.        , 0.        , 0.05767818,\n",
       "       0.02175229, 0.03603883, 0.01899789, 0.        , 0.02495082,\n",
       "       0.        , 0.        , 0.02725951, 0.03382923, 0.02196682,\n",
       "       0.02662512, 0.02122492, 0.02548011, 0.        , 0.        ,\n",
       "       0.01649075, 0.02046409, 0.0416353 , 0.04284278, 0.05428345,\n",
       "       0.        , 0.02189062, 0.02542188, 0.05342733, 0.01654694,\n",
       "       0.02243713, 0.        , 0.01778497, 0.        , 0.0508021 ,\n",
       "       0.04599811, 0.03892218, 0.        , 0.02741194, 0.05256619,\n",
       "       0.02822085, 0.04264875, 0.02300857, 0.02421494, 0.05100185,\n",
       "       0.03013282, 0.0352881 , 0.05064472, 0.02734674, 0.08029084,\n",
       "       0.02386884, 0.04682283, 0.05628895, 0.0584308 , 0.04809774,\n",
       "       0.0137752 , 0.05056589, 0.07897004, 0.02035906, 0.01919697,\n",
       "       0.07811488, 0.03088801, 0.03850113, 0.07771922, 0.07965225,\n",
       "       0.02924508, 0.04891315, 0.03752322, 0.01318246, 0.02899005,\n",
       "       0.03263046, 0.04226354, 0.02701347, 0.02398462, 0.        ,\n",
       "       0.        , 0.        , 0.        , 0.04868545, 0.        ,\n",
       "       0.07032628, 0.04206418, 0.        , 0.03910789, 0.01452016,\n",
       "       0.02384807, 0.03390086, 0.        , 0.03519291, 0.        ,\n",
       "       0.02869913, 0.        , 0.03531636, 0.01573852, 0.05494073,\n",
       "       0.0183069 , 0.        , 0.01658705, 0.0807692 , 0.08955768,\n",
       "       0.07191459, 0.0306078 , 0.        , 0.05463852, 0.06031231,\n",
       "       0.0290775 , 0.02815743, 0.0662928 , 0.05211202, 0.04546807,\n",
       "       0.02075317, 0.        , 0.03102003, 0.02264702, 0.03881647,\n",
       "       0.01836797, 0.03118507, 0.        , 0.06564435, 0.02445758,\n",
       "       0.02050089, 0.03245566, 0.04792017, 0.04080216, 0.03990285,\n",
       "       0.        , 0.07608629, 0.02743744, 0.        , 0.02494245,\n",
       "       0.00862528, 0.0303026 , 0.02581806, 0.03118872, 0.02932775,\n",
       "       0.04603567, 0.05044871, 0.03047786, 0.        , 0.02587578,\n",
       "       0.04554316, 0.02684494, 0.0188865 , 0.02582982, 0.02156543,\n",
       "       0.03936483, 0.02811073, 0.06477753, 0.03946619, 0.0578381 ,\n",
       "       0.03805089, 0.03953379, 0.05063815, 0.02150706, 0.05224821,\n",
       "       0.07210727, 0.03500814, 0.07374379, 0.03406136, 0.0428451 ,\n",
       "       0.06244126, 0.08201353, 0.04402445, 0.05059326, 0.04966652,\n",
       "       0.06645576, 0.0221615 , 0.        , 0.04504478, 0.        ,\n",
       "       0.        , 0.05492779, 0.03609483, 0.        , 0.02340857,\n",
       "       0.02805231, 0.03000336, 0.02822723, 0.01905203, 0.03470081,\n",
       "       0.03141504, 0.03469564, 0.02816695, 0.02793006, 0.        ,\n",
       "       0.02687532, 0.02656037, 0.06099273, 0.07052871, 0.        ,\n",
       "       0.02481098, 0.        , 0.06347753, 0.02842745, 0.05863545,\n",
       "       0.00647124, 0.        , 0.16330084])"
      ]
     },
     "execution_count": 29,
     "metadata": {},
     "output_type": "execute_result"
    }
   ],
   "source": [
    "RAM"
   ]
  },
  {
   "cell_type": "code",
   "execution_count": 30,
   "id": "86259a3b",
   "metadata": {},
   "outputs": [],
   "source": [
    "# pip install PyPDF2\n"
   ]
  },
  {
   "cell_type": "code",
   "execution_count": 31,
   "id": "3030bc8d",
   "metadata": {},
   "outputs": [],
   "source": [
    "# from PyPDF2 import PdfReader\n",
    "# def extract_text_from_pdf(file_path):\n",
    "#     reader = PdfReader(file_path)\n",
    "#     text = \"\".join(page.extract_text() for page in reader.pages)\n",
    "#     return text"
   ]
  },
  {
   "cell_type": "code",
   "execution_count": 32,
   "id": "a0bb14e6",
   "metadata": {},
   "outputs": [],
   "source": [
    "# file_path=r'data\\ACCOUNTANT\\12202337.pdf'"
   ]
  },
  {
   "cell_type": "code",
   "execution_count": 33,
   "id": "7b5f2915",
   "metadata": {},
   "outputs": [],
   "source": [
    "# dummy=extract_text_from_pdf(file_path)"
   ]
  },
  {
   "cell_type": "code",
   "execution_count": 34,
   "id": "57f5d5e5",
   "metadata": {},
   "outputs": [],
   "source": [
    "# text12=preprocess_text(dummy,wnl)\n",
    "# text13=vectorizer1.transform([text12])"
   ]
  },
  {
   "cell_type": "code",
   "execution_count": 16,
   "id": "db19a343",
   "metadata": {},
   "outputs": [],
   "source": [
    "from PyPDF2 import PdfReader\n",
    "\n",
    "def extract_text_from_pdf(file_path):\n",
    "    reader = PdfReader(file_path)\n",
    "    text = \"\".join(page.extract_text() for page in reader.pages)\n",
    "    return text\n",
    "\n",
    "file_path ='Deep_Resume_DS.pdf'\n",
    "# dummy = extract_text_from_pdf(file_path)\n",
    "\n",
    "# text12 = preprocess_text(dummy, wnl)\n",
    "# text13 = vectorizer1.transform([\" \".join(text12)])\n"
   ]
  },
  {
   "cell_type": "code",
   "execution_count": 17,
   "id": "e1ffb201",
   "metadata": {},
   "outputs": [
    {
     "data": {
      "text/plain": [
       "710"
      ]
     },
     "execution_count": 17,
     "metadata": {},
     "output_type": "execute_result"
    }
   ],
   "source": [
    "from sklearn.metrics.pairwise import cosine_similarity\n",
    "RAM = cosine_similarity(text13, job_Description ).flatten()\n",
    "list(RAM).index(max(RAM))"
   ]
  },
  {
   "cell_type": "code",
   "execution_count": 18,
   "id": "442c9375",
   "metadata": {},
   "outputs": [
    {
     "data": {
      "text/plain": [
       "company_name                                      Flywheel Technologies\n",
       "job_description       vp finance flywheel flywheel software highgrow...\n",
       "position_title                              VP of Finance (East Meadow)\n",
       "description_length                                                 5058\n",
       "model_response         {\\n  \"Core Responsibilities\": \"Perform regula...\n",
       "Name: 456, dtype: object"
      ]
     },
     "execution_count": 18,
     "metadata": {},
     "output_type": "execute_result"
    }
   ],
   "source": [
    "df_jd.iloc[456]"
   ]
  },
  {
   "cell_type": "code",
   "execution_count": 21,
   "id": "2fa11f4c",
   "metadata": {},
   "outputs": [
    {
     "data": {
      "text/html": [
       "<div>\n",
       "<style scoped>\n",
       "    .dataframe tbody tr th:only-of-type {\n",
       "        vertical-align: middle;\n",
       "    }\n",
       "\n",
       "    .dataframe tbody tr th {\n",
       "        vertical-align: top;\n",
       "    }\n",
       "\n",
       "    .dataframe thead th {\n",
       "        text-align: right;\n",
       "    }\n",
       "</style>\n",
       "<table border=\"1\" class=\"dataframe\">\n",
       "  <thead>\n",
       "    <tr style=\"text-align: right;\">\n",
       "      <th></th>\n",
       "      <th>company_name</th>\n",
       "      <th>job_description</th>\n",
       "      <th>position_title</th>\n",
       "      <th>description_length</th>\n",
       "      <th>model_response</th>\n",
       "    </tr>\n",
       "  </thead>\n",
       "  <tbody>\n",
       "    <tr>\n",
       "      <th>630</th>\n",
       "      <td>EG -</td>\n",
       "      <td>retail sales assistant job eg calgary ab shop ...</td>\n",
       "      <td>Retail Sales Assistant</td>\n",
       "      <td>727</td>\n",
       "      <td>{\\n  \"Core Responsibilities\": \"Receive custom...</td>\n",
       "    </tr>\n",
       "    <tr>\n",
       "      <th>313</th>\n",
       "      <td>Pragma</td>\n",
       "      <td>overview excited looking growth marketing spec...</td>\n",
       "      <td>Growth Marketing Specialist</td>\n",
       "      <td>1782</td>\n",
       "      <td>{\\n  \"Core Responsibilities\": \"Own all aspect...</td>\n",
       "    </tr>\n",
       "    <tr>\n",
       "      <th>525</th>\n",
       "      <td>Red Robin</td>\n",
       "      <td>red robin taking extra measures keep team memb...</td>\n",
       "      <td>Hosts / Hostesses</td>\n",
       "      <td>2356</td>\n",
       "      <td>{\\n  \"Core Responsibilities\": \"Greet guests, ...</td>\n",
       "    </tr>\n",
       "    <tr>\n",
       "      <th>97</th>\n",
       "      <td>SOCi</td>\n",
       "      <td>soci largest localizedmarketing platform globa...</td>\n",
       "      <td>Full Stack Software Engineer</td>\n",
       "      <td>3345</td>\n",
       "      <td>{\\n  \"Core Responsibilities\": \"Collaborate in...</td>\n",
       "    </tr>\n",
       "    <tr>\n",
       "      <th>627</th>\n",
       "      <td>Urban Barn</td>\n",
       "      <td>parttime sales associate crowfoot sales employ...</td>\n",
       "      <td>Part-Time Sales Associate | Crowfoot</td>\n",
       "      <td>1893</td>\n",
       "      <td>{\\n  \"Core Responsibilities\": \"Representing t...</td>\n",
       "    </tr>\n",
       "  </tbody>\n",
       "</table>\n",
       "</div>"
      ],
      "text/plain": [
       "    company_name                                    job_description  \\\n",
       "630         EG -  retail sales assistant job eg calgary ab shop ...   \n",
       "313       Pragma  overview excited looking growth marketing spec...   \n",
       "525    Red Robin  red robin taking extra measures keep team memb...   \n",
       "97          SOCi  soci largest localizedmarketing platform globa...   \n",
       "627   Urban Barn  parttime sales associate crowfoot sales employ...   \n",
       "\n",
       "                           position_title  description_length  \\\n",
       "630                Retail Sales Assistant                 727   \n",
       "313           Growth Marketing Specialist                1782   \n",
       "525                     Hosts / Hostesses                2356   \n",
       "97           Full Stack Software Engineer                3345   \n",
       "627  Part-Time Sales Associate | Crowfoot                1893   \n",
       "\n",
       "                                        model_response  \n",
       "630   {\\n  \"Core Responsibilities\": \"Receive custom...  \n",
       "313   {\\n  \"Core Responsibilities\": \"Own all aspect...  \n",
       "525   {\\n  \"Core Responsibilities\": \"Greet guests, ...  \n",
       "97    {\\n  \"Core Responsibilities\": \"Collaborate in...  \n",
       "627   {\\n  \"Core Responsibilities\": \"Representing t...  "
      ]
     },
     "execution_count": 21,
     "metadata": {},
     "output_type": "execute_result"
    }
   ],
   "source": [
    "import numpy as np\n",
    "from sklearn.metrics.pairwise import cosine_similarity\n",
    "\n",
    "# def main(location):\n",
    "dummy=extract_text_from_pdf(file_path)\n",
    "text12=splitForDataFrame(dummy,wnl)\n",
    "text13=vectorizer1.transform([text12])\n",
    "RAM = cosine_similarity(text13, job_Description ).flatten()\n",
    "df_jd.iloc[np.argsort(RAM)[-5:][::-1]]\n",
    "\n",
    "\n",
    "# location=r\"C:\\Users\\HP\\Resume recomeder\\Harsh Singh.pdf\"\n",
    "# main(location)"
   ]
  },
  {
   "cell_type": "code",
   "execution_count": 29,
   "id": "14d53046",
   "metadata": {},
   "outputs": [],
   "source": [
    "import numpy as np\n",
    "top_indices = np.argsort(RAM)[-5:][::-1]"
   ]
  },
  {
   "cell_type": "code",
   "execution_count": 30,
   "id": "c595d19d",
   "metadata": {},
   "outputs": [
    {
     "data": {
      "text/plain": [
       "array([804, 460, 620, 454, 802], dtype=int64)"
      ]
     },
     "execution_count": 30,
     "metadata": {},
     "output_type": "execute_result"
    }
   ],
   "source": [
    "np.argsort(RAM)[-5:][::-1]"
   ]
  },
  {
   "cell_type": "code",
   "execution_count": 2,
   "id": "f8575d56",
   "metadata": {},
   "outputs": [
    {
     "name": "stdout",
     "output_type": "stream",
     "text": [
      "showing info https://raw.githubusercontent.com/nltk/nltk_data/gh-pages/index.xml\n"
     ]
    },
    {
     "data": {
      "text/plain": [
       "True"
      ]
     },
     "execution_count": 2,
     "metadata": {},
     "output_type": "execute_result"
    }
   ],
   "source": [
    "import nltk\n",
    "nltk.download()"
   ]
  }
 ],
 "metadata": {
  "kernelspec": {
   "display_name": "Python 3 (ipykernel)",
   "language": "python",
   "name": "python3"
  },
  "language_info": {
   "codemirror_mode": {
    "name": "ipython",
    "version": 3
   },
   "file_extension": ".py",
   "mimetype": "text/x-python",
   "name": "python",
   "nbconvert_exporter": "python",
   "pygments_lexer": "ipython3",
   "version": "3.10.9"
  }
 },
 "nbformat": 4,
 "nbformat_minor": 5
}
